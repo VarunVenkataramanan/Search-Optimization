{
 "cells": [
  {
   "cell_type": "code",
   "execution_count": 1,
   "metadata": {
    "id": "ofd1OEUHAIvy"
   },
   "outputs": [
    {
     "name": "stderr",
     "output_type": "stream",
     "text": [
      "/usr/local/lib/python3.8/dist-packages/tqdm/auto.py:21: TqdmWarning: IProgress not found. Please update jupyter and ipywidgets. See https://ipywidgets.readthedocs.io/en/stable/user_install.html\n",
      "  from .autonotebook import tqdm as notebook_tqdm\n"
     ]
    }
   ],
   "source": [
    "import numpy as np\n",
    "from transformers import AutoModelForTokenClassification,AutoTokenizer\n",
    "from transformers import pipeline\n",
    "import time\n",
    "from collections import Counter\n",
    "import re"
   ]
  },
  {
   "cell_type": "markdown",
   "metadata": {},
   "source": [
    "# Load the model and build the pipeline"
   ]
  },
  {
   "cell_type": "code",
   "execution_count": 2,
   "metadata": {
    "id": "N3EsrTMHbyxN"
   },
   "outputs": [],
   "source": [
    "model = AutoModelForTokenClassification.from_pretrained('/workspace/Distilbert_NER').to('cuda:0')\n",
    "tokenizer = AutoTokenizer.from_pretrained('/workspace/Distilbert_NER')"
   ]
  },
  {
   "cell_type": "code",
   "execution_count": 3,
   "metadata": {
    "id": "zbVHjHnb-UbP"
   },
   "outputs": [],
   "source": [
    "pipe = pipeline(\"ner\", model=model, tokenizer=tokenizer, aggregation_strategy=\"simple\",device = 0) # pass device=0 if using gpu"
   ]
  },
  {
   "cell_type": "markdown",
   "metadata": {},
   "source": [
    "# Spell correction and Classification"
   ]
  },
  {
   "cell_type": "code",
   "execution_count": 6,
   "metadata": {
    "id": "cMX2RHV5C8YO"
   },
   "outputs": [],
   "source": [
    "vocab = [['>','>=', 'more', 'beyond', 'over', 'costlier', 'higher', 'above', 'greater','atleast', 'at least', 'minimum', 'min'],\n",
    "         ['<','<=','less', 'within', 'under', 'lower ', 'cheaper', 'below', 'lesser','at most', 'atmost', 'maximum', 'max'],\n",
    "         ['=', 'equivalent', 'parallel', 'equal', 'similar', 'akin', 'comparable', 'for']]"
   ]
  },
  {
   "cell_type": "code",
   "execution_count": 7,
   "metadata": {
    "colab": {
     "base_uri": "https://localhost:8080/"
    },
    "id": "s_-fDJNoC_Dj",
    "outputId": "934f49d1-e4ec-4b91-a841-fffafac4cf21"
   },
   "outputs": [
    {
     "data": {
      "text/plain": [
       "7"
      ]
     },
     "execution_count": 7,
     "metadata": {},
     "output_type": "execute_result"
    }
   ],
   "source": [
    "f = open('/workspace/big.txt','w+')\n",
    "for i in vocab:\n",
    "    for j in i:\n",
    "        f.write(j)\n",
    "        f.write(' ')\n",
    "f.write('than to')"
   ]
  },
  {
   "cell_type": "code",
   "execution_count": 12,
   "metadata": {
    "id": "fm03sKt5pnTB"
   },
   "outputs": [],
   "source": [
    "def words(text): \\\n",
    "    return re.findall(r'\\w+', text.lower())\n",
    "\n",
    "def read():\n",
    "    f.seek(0)\n",
    "    return f.read()\n",
    "\n",
    "WORDS = Counter(words(read()))\n",
    "WORDLIST = list(WORDS.keys())\n",
    "\n",
    "def P(word, N=sum(WORDS.values())):\n",
    "    \"Probability of `word`.\"\n",
    "    return WORDS[word] / N\n",
    "\n",
    "def correction(word):\n",
    "    \"Most probable spelling correction for word.\"\n",
    "    return max(candidates(word), key=P)\n",
    "\n",
    "def candidates(word):\n",
    "    \"Generate possible spelling corrections for word.\"\n",
    "    return (known([word]) or known(edits1(word)) or known(edits2(word)) or ['NA'])\n",
    "\n",
    "def known(words):\n",
    "    \"The subset of `words` that appear in the dictionary of WORDS.\"\n",
    "    return set(w for w in words if w in WORDS)\n",
    "\n",
    "def edits1(word):\n",
    "    \"All edits that are one edit away from `word`.\"\n",
    "    letters    = 'abcdefghijklmnopqrstuvwxyz'\n",
    "    splits     = [(word[:i], word[i:])    for i in range(len(word) + 1)]\n",
    "    deletes    = [L + R[1:]               for L, R in splits if R]\n",
    "    transposes = [L + R[1] + R[0] + R[2:] for L, R in splits if len(R)>1]\n",
    "    replaces   = [L + c + R[1:]           for L, R in splits if R for c in letters]\n",
    "    inserts    = [L + c + R               for L, R in splits for c in letters]\n",
    "    return set(deletes + transposes + replaces + inserts)\n",
    "\n",
    "def edits2(word):\n",
    "    \"All edits that are two edits away from `word`.\"\n",
    "    return (e2 for e1 in edits1(word) for e2 in edits1(e1))"
   ]
  },
  {
   "cell_type": "markdown",
   "metadata": {},
   "source": [
    "# Inference "
   ]
  },
  {
   "cell_type": "code",
   "execution_count": 5,
   "metadata": {
    "colab": {
     "base_uri": "https://localhost:8080/"
    },
    "id": "pa3ewRAxy4tq",
    "outputId": "6746c04e-7d08-40d6-efcf-706366e3d87b"
   },
   "outputs": [
    {
     "name": "stdin",
     "output_type": "stream",
     "text": [
      " shirts under 500\n"
     ]
    },
    {
     "name": "stdout",
     "output_type": "stream",
     "text": [
      "Execution time: 24.75 milliseconds\n",
      "comparison : under\n",
      "price : 500\n"
     ]
    }
   ],
   "source": [
    "text = input()\n",
    "start = time.time()\n",
    "\n",
    "a = pipe(text)\n",
    "\n",
    "end = time.time()\n",
    "execution_time_milliseconds = (end-start) * 1000\n",
    "print(f\"Execution time: {execution_time_milliseconds:.2f} milliseconds\")\n",
    "for i in range(len(a)):\n",
    "    print(f\"{a[i]['entity_group']} : {a[i]['word']}\")"
   ]
  },
  {
   "cell_type": "code",
   "execution_count": 13,
   "metadata": {
    "colab": {
     "base_uri": "https://localhost:8080/"
    },
    "id": "adawtcX8piGE",
    "outputId": "566eff11-bbe3-4a1f-b136-6ee284ff635f"
   },
   "outputs": [
    {
     "name": "stdin",
     "output_type": "stream",
     "text": [
      " blue shirts under 200\n"
     ]
    },
    {
     "name": "stdout",
     "output_type": "stream",
     "text": [
      "comparison : \tunder\n",
      "price : \t200 \n",
      "comp: \t\t<\n"
     ]
    }
   ],
   "source": [
    "comp = ''\n",
    "pr = ''\n",
    "text = input()\n",
    "start = time.time()\n",
    "output = pipe(text)\n",
    "\n",
    "for j in range(len(output)):\n",
    "    if(output[j]['entity_group']=='comparison'):\n",
    "        comp += output[j]['word'] + ' '\n",
    "    if(output[j]['entity_group']=='price'):\n",
    "        pr += output[j]['word'] + ' '\n",
    "comp = comp.replace('than','').replace('to','').strip()\n",
    "comp = ' '.join([correction(i) for i in comp.split()])\n",
    "term = comp\n",
    "comp = comp.split()\n",
    "occurrence_lists = np.array([[[k in i for i in vocab[i]].count(True) for i in range(3)] for k in comp])\n",
    "pos = -1 if (np.sum(occurrence_lists,axis=0)==[0,0,0]).all() else np.argmax(np.sum(occurrence_lists,axis=0))\n",
    "\n",
    "end = time.time()\n",
    "execution_time_milliseconds = (end-start) * 1000\n",
    "comp = '>' if pos==0 else '<' if pos==1 else '='\n",
    "#print(f\"Execution time: {execution_time_milliseconds:.2f} milliseconds\")\n",
    "print(f\"comparison : \\t{term}\")\n",
    "print(f\"price : \\t{pr}\")\n",
    "print(f\"comp: \\t\\t{comp}\")\n"
   ]
  }
 ],
 "metadata": {
  "accelerator": "GPU",
  "colab": {
   "gpuType": "T4",
   "provenance": []
  },
  "kernelspec": {
   "display_name": "Python 3 (ipykernel)",
   "language": "python",
   "name": "python3"
  },
  "language_info": {
   "codemirror_mode": {
    "name": "ipython",
    "version": 3
   },
   "file_extension": ".py",
   "mimetype": "text/x-python",
   "name": "python",
   "nbconvert_exporter": "python",
   "pygments_lexer": "ipython3",
   "version": "3.8.10"
  }
 },
 "nbformat": 4,
 "nbformat_minor": 4
}
